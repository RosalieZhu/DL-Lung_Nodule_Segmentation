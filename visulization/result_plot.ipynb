{
 "cells": [
  {
   "cell_type": "code",
   "execution_count": 63,
   "metadata": {},
   "outputs": [],
   "source": [
    "import pandas as pd\n",
    "import matplotlib.pyplot as plt\n",
    "import matplotlib as mpl\n",
    "import seaborn as sns\n",
    "import numpy as np"
   ]
  },
  {
   "cell_type": "code",
   "execution_count": null,
   "metadata": {},
   "outputs": [],
   "source": [
    "result = './result_compare.csv'\n",
    "result = pd.read_csv(result)\n",
    "result.head()"
   ]
  },
  {
   "cell_type": "code",
   "execution_count": 7,
   "metadata": {},
   "outputs": [
    {
     "name": "stderr",
     "output_type": "stream",
     "text": [
      "/Applications/anaconda3/envs/BMEN4000/lib/python3.6/site-packages/ipykernel_launcher.py:3: FutureWarning: Method .as_matrix will be removed in a future version. Use .values instead.\n",
      "  This is separate from the ipykernel package so we can avoid doing imports until\n"
     ]
    }
   ],
   "source": [
    "result_model = result[:8].round(3)\n",
    "result_model = result_model.rename(columns = {'inverse_ratio' : 'model_score'})\n",
    "model_mat = result_model.as_matrix(columns = result_model.columns[2:-1])\n",
    "model_score_array = np.sum(model_mat, axis = 1)\n",
    "result_model.model_score = model_score_array"
   ]
  },
  {
   "cell_type": "code",
   "execution_count": 28,
   "metadata": {},
   "outputs": [],
   "source": [
    "result_model_ls = result_model[result_model['Scan type'] == 'LS']"
   ]
  },
  {
   "cell_type": "code",
   "execution_count": 112,
   "metadata": {},
   "outputs": [],
   "source": [
    "c1 = sns.color_palette(\"BrBG\", 7)[5]\n",
    "plot_model = [model.replace('_', '-') for model in list(result_model_ls.Architecture.values)] \n",
    "plot_model_list = plot_model + [''] + plot_model"
   ]
  },
  {
   "cell_type": "code",
   "execution_count": 139,
   "metadata": {},
   "outputs": [
    {
     "data": {
      "image/png": "[encoded data removed]",
      "text/plain": [
       "<Figure size 720x504 with 1 Axes>"
      ]
     },
     "metadata": {},
     "output_type": "display_data"
    }
   ],
   "source": [
    "fig, ax = plt.subplots(figsize=(10, 7))\n",
    "sns.set_style('ticks')\n",
    "idx = np.array(list(range(4)))\n",
    "sns.barplot(idx, result_model_ls['Specificity'], color = 'grey', alpha = 0.6)\n",
    "#sns.barplot(idx, result_model_ls['RR_DC'], color = 'w', edgecolor = 'grey')\n",
    "ax.tick_params(axis = 'y', labelsize = 15);\n",
    "#ax.legend(('Dice coefficient','Specificity'), loc = 'upper right', fontsize = 15)\n",
    "ax.set_xticks((np.array(list(range(9)))))\n",
    "ax.set_xticklabels(plot_model_list, fontsize = 15, rotation = 45)\n",
    "ax.set_ylim([0,0.8])\n",
    "ax.spines['top'].set_color('none')\n",
    "ax.spines['right'].set_color('none')\n",
    "ax.spines['left'].set_smart_bounds(False)\n",
    "ax.spines['bottom'].set_smart_bounds(True)"
   ]
  },
  {
   "cell_type": "code",
   "execution_count": 18,
   "metadata": {},
   "outputs": [
    {
     "data": {
      "text/html": [
       "<div>\n",
       "<style scoped>\n",
       "    .dataframe tbody tr th:only-of-type {\n",
       "        vertical-align: middle;\n",
       "    }\n",
       "\n",
       "    .dataframe tbody tr th {\n",
       "        vertical-align: top;\n",
       "    }\n",
       "\n",
       "    .dataframe thead th {\n",
       "        text-align: right;\n",
       "    }\n",
       "</style>\n",
       "<table border=\"1\" class=\"dataframe\">\n",
       "  <thead>\n",
       "    <tr style=\"text-align: right;\">\n",
       "      <th></th>\n",
       "      <th>Architecture</th>\n",
       "      <th>Scan type</th>\n",
       "      <th>Accuarcy</th>\n",
       "      <th>Sensitivity</th>\n",
       "      <th>Specificity</th>\n",
       "      <th>Precision</th>\n",
       "      <th>F1 Score</th>\n",
       "      <th>Jaccard Similariy</th>\n",
       "      <th>Dice Coefficient</th>\n",
       "      <th>RR_DC</th>\n",
       "      <th>inverse_ratio</th>\n",
       "    </tr>\n",
       "  </thead>\n",
       "  <tbody>\n",
       "    <tr>\n",
       "      <th>2</th>\n",
       "      <td>AttU_Net</td>\n",
       "      <td>PP</td>\n",
       "      <td>0.76</td>\n",
       "      <td>0.42</td>\n",
       "      <td>0.768</td>\n",
       "      <td>0.410</td>\n",
       "      <td>0.364</td>\n",
       "      <td>0.296</td>\n",
       "      <td>0.383</td>\n",
       "      <td>0.568</td>\n",
       "      <td>NaN</td>\n",
       "    </tr>\n",
       "    <tr>\n",
       "      <th>3</th>\n",
       "      <td>AttU_Net</td>\n",
       "      <td>LS</td>\n",
       "      <td>0.77</td>\n",
       "      <td>0.34</td>\n",
       "      <td>0.782</td>\n",
       "      <td>0.339</td>\n",
       "      <td>0.305</td>\n",
       "      <td>0.249</td>\n",
       "      <td>0.331</td>\n",
       "      <td>0.543</td>\n",
       "      <td>NaN</td>\n",
       "    </tr>\n",
       "    <tr>\n",
       "      <th>8</th>\n",
       "      <td>AttU_Net</td>\n",
       "      <td>PP</td>\n",
       "      <td>0.81</td>\n",
       "      <td>0.43</td>\n",
       "      <td>0.829</td>\n",
       "      <td>0.485</td>\n",
       "      <td>0.442</td>\n",
       "      <td>0.378</td>\n",
       "      <td>0.436</td>\n",
       "      <td>0.441</td>\n",
       "      <td>0.10</td>\n",
       "    </tr>\n",
       "    <tr>\n",
       "      <th>9</th>\n",
       "      <td>AttU_Net</td>\n",
       "      <td>LS</td>\n",
       "      <td>0.85</td>\n",
       "      <td>0.46</td>\n",
       "      <td>0.830</td>\n",
       "      <td>0.487</td>\n",
       "      <td>0.452</td>\n",
       "      <td>0.381</td>\n",
       "      <td>0.452</td>\n",
       "      <td>0.476</td>\n",
       "      <td>0.10</td>\n",
       "    </tr>\n",
       "    <tr>\n",
       "      <th>10</th>\n",
       "      <td>AttU_Net</td>\n",
       "      <td>PP</td>\n",
       "      <td>0.77</td>\n",
       "      <td>0.39</td>\n",
       "      <td>0.780</td>\n",
       "      <td>0.435</td>\n",
       "      <td>0.352</td>\n",
       "      <td>0.275</td>\n",
       "      <td>0.371</td>\n",
       "      <td>0.437</td>\n",
       "      <td>0.25</td>\n",
       "    </tr>\n",
       "    <tr>\n",
       "      <th>11</th>\n",
       "      <td>AttU_Net</td>\n",
       "      <td>LS</td>\n",
       "      <td>0.76</td>\n",
       "      <td>0.35</td>\n",
       "      <td>0.768</td>\n",
       "      <td>0.341</td>\n",
       "      <td>0.296</td>\n",
       "      <td>0.235</td>\n",
       "      <td>0.316</td>\n",
       "      <td>0.391</td>\n",
       "      <td>0.25</td>\n",
       "    </tr>\n",
       "    <tr>\n",
       "      <th>12</th>\n",
       "      <td>AttU_Net</td>\n",
       "      <td>PP</td>\n",
       "      <td>0.76</td>\n",
       "      <td>0.47</td>\n",
       "      <td>0.766</td>\n",
       "      <td>0.407</td>\n",
       "      <td>0.369</td>\n",
       "      <td>0.294</td>\n",
       "      <td>0.385</td>\n",
       "      <td>0.503</td>\n",
       "      <td>0.50</td>\n",
       "    </tr>\n",
       "    <tr>\n",
       "      <th>13</th>\n",
       "      <td>AttU_Net</td>\n",
       "      <td>LS</td>\n",
       "      <td>0.76</td>\n",
       "      <td>0.27</td>\n",
       "      <td>0.786</td>\n",
       "      <td>0.348</td>\n",
       "      <td>0.267</td>\n",
       "      <td>0.209</td>\n",
       "      <td>0.293</td>\n",
       "      <td>0.437</td>\n",
       "      <td>0.50</td>\n",
       "    </tr>\n",
       "    <tr>\n",
       "      <th>14</th>\n",
       "      <td>AttU_Net</td>\n",
       "      <td>PP</td>\n",
       "      <td>0.77</td>\n",
       "      <td>0.38</td>\n",
       "      <td>0.782</td>\n",
       "      <td>0.484</td>\n",
       "      <td>0.359</td>\n",
       "      <td>0.275</td>\n",
       "      <td>0.377</td>\n",
       "      <td>0.538</td>\n",
       "      <td>0.75</td>\n",
       "    </tr>\n",
       "    <tr>\n",
       "      <th>15</th>\n",
       "      <td>AttU_Net</td>\n",
       "      <td>LS</td>\n",
       "      <td>0.75</td>\n",
       "      <td>0.37</td>\n",
       "      <td>0.762</td>\n",
       "      <td>0.350</td>\n",
       "      <td>0.302</td>\n",
       "      <td>0.235</td>\n",
       "      <td>0.321</td>\n",
       "      <td>0.501</td>\n",
       "      <td>0.75</td>\n",
       "    </tr>\n",
       "  </tbody>\n",
       "</table>\n",
       "</div>"
      ],
      "text/plain": [
       "   Architecture Scan type  Accuarcy  Sensitivity  Specificity  Precision  \\\n",
       "2      AttU_Net        PP      0.76         0.42        0.768      0.410   \n",
       "3      AttU_Net        LS      0.77         0.34        0.782      0.339   \n",
       "8      AttU_Net        PP      0.81         0.43        0.829      0.485   \n",
       "9      AttU_Net        LS      0.85         0.46        0.830      0.487   \n",
       "10     AttU_Net        PP      0.77         0.39        0.780      0.435   \n",
       "11     AttU_Net        LS      0.76         0.35        0.768      0.341   \n",
       "12     AttU_Net        PP      0.76         0.47        0.766      0.407   \n",
       "13     AttU_Net        LS      0.76         0.27        0.786      0.348   \n",
       "14     AttU_Net        PP      0.77         0.38        0.782      0.484   \n",
       "15     AttU_Net        LS      0.75         0.37        0.762      0.350   \n",
       "\n",
       "    F1 Score  Jaccard Similariy  Dice Coefficient  RR_DC  inverse_ratio  \n",
       "2      0.364              0.296             0.383  0.568            NaN  \n",
       "3      0.305              0.249             0.331  0.543            NaN  \n",
       "8      0.442              0.378             0.436  0.441           0.10  \n",
       "9      0.452              0.381             0.452  0.476           0.10  \n",
       "10     0.352              0.275             0.371  0.437           0.25  \n",
       "11     0.296              0.235             0.316  0.391           0.25  \n",
       "12     0.369              0.294             0.385  0.503           0.50  \n",
       "13     0.267              0.209             0.293  0.437           0.50  \n",
       "14     0.359              0.275             0.377  0.538           0.75  \n",
       "15     0.302              0.235             0.321  0.501           0.75  "
      ]
     },
     "execution_count": 18,
     "metadata": {},
     "output_type": "execute_result"
    }
   ],
   "source": [
    "result_ir = result[2:4].append( result[8:]).round(3)\n",
    "result_ir"
   ]
  },
  {
   "cell_type": "code",
   "execution_count": 19,
   "metadata": {},
   "outputs": [],
   "source": [
    "LS_frame = result_ir[result_ir['Scan type'] == 'LS']\n",
    "PP_frame = result_ir[result_ir['Scan type'] == 'PP']"
   ]
  },
  {
   "cell_type": "code",
   "execution_count": 20,
   "metadata": {},
   "outputs": [
    {
     "data": {
      "image/png": "[encoded data removed]",
      "text/plain": [
       "<Figure size 720x504 with 1 Axes>"
      ]
     },
     "metadata": {},
     "output_type": "display_data"
    }
   ],
   "source": [
    "fig,ax = plt.subplots(figsize=(10, 7))\n",
    "\n",
    "\n",
    "DC_range = np.array(list(range(5)))\n",
    "SP_range = np.array(list(range(5))) + 5\n",
    "ax.hlines(y = DC_range, xmin=0, xmax = LS_frame['Dice Coefficient'], color='#007ACC', alpha=0.4, linewidth=2)\n",
    "p1 = ax.plot(LS_frame['Dice Coefficient'], DC_range, \"o\", markersize=8, color='#007ACC', alpha=0.6)\n",
    "\n",
    "ax.hlines(y= SP_range, xmin=0, xmax = LS_frame['Specificity'], color='grey', alpha=0.4, linewidth=2)\n",
    "p2 = ax.plot(LS_frame['Specificity'], SP_range, \"o\", markersize=8, color='grey', alpha=0.6)\n",
    "\n",
    "ax.hlines(y= [1,6], xmin=0, xmax = [LS_frame['Dice Coefficient'].values[1], LS_frame['Specificity'].values[1]], color='r', alpha=0.4, linewidth=2)\n",
    "p3 = ax.plot([LS_frame['Dice Coefficient'].values[1], LS_frame['Specificity'].values[1]], [1,6], \"o\", markersize=8, color='r', alpha=0.6)\n",
    "\n",
    "ax.set_title('Segmented with different $\\lambda$')\n",
    "ax.set_yticks(list(range(10)))\n",
    "ax.set_yticklabels(('Normal DC','$\\lambda$ = 0.1', '$\\lambda$ = 0.25', '$\\lambda$ = 0.5', '$\\lambda$ = 0.75', \\\n",
    "                   'Normal DC','$\\lambda$ = 0.1', '$\\lambda$ = 0.25', '$\\lambda$ = 0.5', '$\\lambda$ = 0.75') )\n",
    "#ax.legend((p1[0],p2[0]),('Dice coefficient','Specificity'), loc = 'lower right', fontsize = 15)\n",
    "ax.spines['top'].set_color('none')\n",
    "ax.spines['right'].set_color('none')\n",
    "ax.spines['left'].set_smart_bounds(True)\n",
    "ax.spines['bottom'].set_smart_bounds(True)\n"
   ]
  },
  {
   "cell_type": "code",
   "execution_count": null,
   "metadata": {},
   "outputs": [],
   "source": []
  }
 ],
 "metadata": {
  "kernelspec": {
   "display_name": "Python 3",
   "language": "python",
   "name": "python3"
  },
  "language_info": {
   "codemirror_mode": {
    "name": "ipython",
    "version": 3
   },
   "file_extension": ".py",
   "mimetype": "text/x-python",
   "name": "python",
   "nbconvert_exporter": "python",
   "pygments_lexer": "ipython3",
   "version": "3.6.8"
  }
 },
 "nbformat": 4,
 "nbformat_minor": 2
}
